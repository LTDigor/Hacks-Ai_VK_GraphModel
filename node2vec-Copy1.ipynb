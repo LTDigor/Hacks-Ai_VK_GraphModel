{
 "cells": [
  {
   "cell_type": "code",
   "execution_count": 163,
   "id": "c9ad116f-8b5e-4695-bffd-238c7fee64ae",
   "metadata": {},
   "outputs": [],
   "source": [
    "import pandas as pd\n",
    "import torch.nn as nn\n",
    "from torch_geometric.data import Data\n",
    "from torch_geometric.utils.convert import to_networkx\n",
    "from torch_geometric.nn import GCNConv\n",
    "\n",
    "import networkx as nx"
   ]
  },
  {
   "cell_type": "code",
   "execution_count": 164,
   "id": "3bd031a9-de2d-4ded-8d54-390d7092249c",
   "metadata": {},
   "outputs": [],
   "source": [
    "features_friends = pd.read_csv(\"../data/FINAL_FEATURES_FRIENDS.tsv\", sep=\"\\t\")\n",
    "target_traintest = pd.read_csv(\"../data/FINAL_TARGETS_DATES_TRAINTEST.tsv\", sep=\"\\t\")\n",
    "sequences_matrix = pd.read_csv(\"../data/FINAL_SEQUENCES_MATRIX.tsv\", sep=\"\\t\")\n",
    "targets_traintest = pd.read_csv(\"../data/FINAL_TARGETS_DATES_TRAINTEST.tsv\", sep=\"\\t\")"
   ]
  },
  {
   "cell_type": "code",
   "execution_count": 165,
   "id": "e12a6f87-278f-4fb1-b93b-2df14cdd5c49",
   "metadata": {},
   "outputs": [],
   "source": [
    "targets_train=targets_traintest.loc[targets_traintest.TARGET!='test']\n",
    "\n",
    "temp_df = features_friends.merge(target_traintest, on='CLIENT_ID', how = 'left')\n",
    "temp_df = temp_df[:1000]"
   ]
  },
  {
   "cell_type": "code",
   "execution_count": 166,
   "id": "575d453e-65f9-4bf2-82c3-a69afe4c1624",
   "metadata": {},
   "outputs": [],
   "source": [
    "# temp_df = temp_df[temp_df['TARGET'] != 'test']"
   ]
  },
  {
   "cell_type": "code",
   "execution_count": 167,
   "id": "a842bed1-8b96-4276-8f38-467159e906e5",
   "metadata": {},
   "outputs": [],
   "source": [
    "edge_attrs_names = temp_df.columns.drop(['CLIENT_ID','FRIEND_ID',\n",
    "       'RETRO_DT', 'TARGET'])\n",
    "edge_attrs_val=temp_df[edge_attrs_names]"
   ]
  },
  {
   "cell_type": "code",
   "execution_count": null,
   "id": "66af9e40-41f7-4b48-9a21-5defb28cecc2",
   "metadata": {},
   "outputs": [],
   "source": []
  },
  {
   "cell_type": "code",
   "execution_count": 168,
   "id": "51b7d313-6847-4498-b115-7eeeb19cdcc8",
   "metadata": {},
   "outputs": [],
   "source": [
    "temp_df['cluster'] = [str(int(x % 2 == 0)) for x in range(len(temp_df))]"
   ]
  },
  {
   "cell_type": "code",
   "execution_count": 170,
   "id": "b4ef3d62-d590-4f34-a9c6-e29612a3f9d1",
   "metadata": {},
   "outputs": [],
   "source": [
    "G = nx.from_pandas_edgelist(temp_df, 'CLIENT_ID', 'FRIEND_ID')"
   ]
  },
  {
   "cell_type": "code",
   "execution_count": null,
   "id": "5aa9db7f-ae6d-46ff-93d0-81a6853b8cec",
   "metadata": {},
   "outputs": [],
   "source": [
    "G.edges"
   ]
  },
  {
   "cell_type": "code",
   "execution_count": null,
   "id": "2656bfa6-b611-4f44-958b-f3f76a4947e9",
   "metadata": {},
   "outputs": [],
   "source": [
    "temp_df_features = temp_df.drop(['CLIENT_ID','TARGET','RETRO_DT', 'FRIEND_ID', 'cluster'], axis = 1)"
   ]
  },
  {
   "cell_type": "code",
   "execution_count": null,
   "id": "90b761c4-6625-4482-9f1d-6946dbaff364",
   "metadata": {},
   "outputs": [],
   "source": [
    "def get_edge_index(data, target):\n",
    "    node_features_list=list(data.values)\n",
    "    node_features=torch.tensor(node_features_list)\n",
    "    node_labels=torch.tensor(target)\n",
    "    edges_list=edges.values.tolist()\n",
    "    edge_index01=torch.tensor(edges_list, dtype = torch.long).T\n",
    "    edge_index02=torch.zeros(edge_index01.shape, dtype = torch.long)#.T\n",
    "    edge_index02[0,:]=edge_index01[1,:]\n",
    "    edge_index02[1,:]=edge_index01[0,:]\n",
    "    edge_index0=torch.cat((edge_index01,edge_index02),axis=1)\n",
    "    return edge_index0"
   ]
  },
  {
   "cell_type": "code",
   "execution_count": null,
   "id": "ca9512ce-9f5e-44ab-bbd2-0e99f978aab3",
   "metadata": {},
   "outputs": [],
   "source": [
    "edge_indexis = get_edge_index(temp_df_features, temp_df.TARGET.values)"
   ]
  },
  {
   "cell_type": "code",
   "execution_count": null,
   "id": "a17ce000-a5dc-4c97-a0ae-e793cd30ce8b",
   "metadata": {},
   "outputs": [],
   "source": [
    "temp_df_features.values"
   ]
  },
  {
   "cell_type": "code",
   "execution_count": null,
   "id": "20b4a49c-f08a-42bc-9321-f74fc8bd3d53",
   "metadata": {},
   "outputs": [],
   "source": [
    "g = Data(x = X,\n",
    "         y = temp_df.TARGET)"
   ]
  },
  {
   "cell_type": "code",
   "execution_count": null,
   "id": "b38f3fc5-8286-4995-8b60-8a4527d5337d",
   "metadata": {},
   "outputs": [],
   "source": [
    "X = torch.from_numpy(temp_df_features.values).to(torch.long)\n",
    "Y = torch.from_numpy(temp_df.TARGET.values).to(torch.long)"
   ]
  },
  {
   "cell_type": "code",
   "execution_count": null,
   "id": "badd5520-5c00-4e1b-9baa-e71a12d74d17",
   "metadata": {},
   "outputs": [],
   "source": [
    "X = torch.LongTensor(X)"
   ]
  },
  {
   "cell_type": "code",
   "execution_count": null,
   "id": "43bba289-9077-4e8c-bd09-32ac5e8e503b",
   "metadata": {},
   "outputs": [],
   "source": [
    "X"
   ]
  },
  {
   "cell_type": "code",
   "execution_count": null,
   "id": "e4c566b0-8121-4a05-bc9b-341263db7f72",
   "metadata": {},
   "outputs": [],
   "source": [
    "class SocialGNN(torch.nn.Module):\n",
    "    def __init__(self,num_of_feat,f):\n",
    "        super(SocialGNN, self).__init__()\n",
    "        self.conv1 = GCNConv(num_of_feat, f)\n",
    "        self.conv2 = GCNConv(f, 2)\n",
    "\n",
    "    def forward(self, data):\n",
    "        x = data.x.float()\n",
    "        edge_index =  data.edge_index\n",
    "        x = self.conv1(x=x, edge_index=edge_index)\n",
    "        x = F.relu(x)\n",
    "        x = self.conv2(x, edge_index)\n",
    "        return x"
   ]
  },
  {
   "cell_type": "code",
   "execution_count": null,
   "id": "6c21516c-d338-4a63-bb3d-ece3929ae309",
   "metadata": {},
   "outputs": [],
   "source": [
    "num_of_feat = g.num_node_features"
   ]
  },
  {
   "cell_type": "code",
   "execution_count": null,
   "id": "bbb22c11-8db6-43a9-8890-6491ef8df3c2",
   "metadata": {},
   "outputs": [],
   "source": [
    "num_of_feat"
   ]
  },
  {
   "cell_type": "code",
   "execution_count": null,
   "id": "7208ad44-29e3-4f16-b909-81dd162e628e",
   "metadata": {},
   "outputs": [],
   "source": [
    "model = SocialGNN(num_of_feat, 16)"
   ]
  },
  {
   "cell_type": "code",
   "execution_count": null,
   "id": "c3a5c155-e43a-4a7f-9320-9ca2eb115218",
   "metadata": {},
   "outputs": [],
   "source": [
    "model.forward(g)"
   ]
  },
  {
   "cell_type": "code",
   "execution_count": null,
   "id": "8100e1cd-bded-43c0-a4d9-1c72d667ecd0",
   "metadata": {},
   "outputs": [],
   "source": [
    "tmp = g.x.float()"
   ]
  },
  {
   "cell_type": "code",
   "execution_count": null,
   "id": "78500bc7-d7cb-431e-98d5-ccd601f26efc",
   "metadata": {},
   "outputs": [],
   "source": [
    "g.edge_index"
   ]
  },
  {
   "cell_type": "code",
   "execution_count": null,
   "id": "a998cec1-d409-463a-b427-f1ffe7d5dcce",
   "metadata": {},
   "outputs": [],
   "source": []
  }
 ],
 "metadata": {
  "kernelspec": {
   "display_name": "Python 3 (ipykernel)",
   "language": "python",
   "name": "python3"
  },
  "language_info": {
   "codemirror_mode": {
    "name": "ipython",
    "version": 3
   },
   "file_extension": ".py",
   "mimetype": "text/x-python",
   "name": "python",
   "nbconvert_exporter": "python",
   "pygments_lexer": "ipython3",
   "version": "3.9.7"
  }
 },
 "nbformat": 4,
 "nbformat_minor": 5
}
