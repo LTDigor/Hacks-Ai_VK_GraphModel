{
 "cells": [
  {
   "cell_type": "code",
   "execution_count": 1,
   "id": "d01dda6e-6ad1-4316-8ac0-07322965f8b5",
   "metadata": {},
   "outputs": [],
   "source": [
    "import torch\n",
    "from torch_geometric.data import Data\n",
    "import pandas as pd\n",
    "import numpy as np\n",
    "from torch_geometric.loader import DataLoader\n"
   ]
  },
  {
   "cell_type": "code",
   "execution_count": 2,
   "id": "4c320759-fd59-41cd-8c3d-f4aa69626315",
   "metadata": {},
   "outputs": [],
   "source": [
    "features_friends = pd.read_csv(\"../data/FINAL_FEATURES_FRIENDS.tsv\", sep=\"\\t\")\n",
    "target_traintest = pd.read_csv(\"../data/FINAL_TARGETS_DATES_TRAINTEST.tsv\", sep=\"\\t\")\n",
    "sequences_matrix = pd.read_csv(\"../data/FINAL_SEQUENCES_MATRIX.tsv\", sep=\"\\t\")\n",
    "targets_traintest = pd.read_csv(\"../data/FINAL_TARGETS_DATES_TRAINTEST.tsv\", sep=\"\\t\")"
   ]
  },
  {
   "cell_type": "code",
   "execution_count": 3,
   "id": "cf915692-23df-47ce-85ca-5b112b1434bd",
   "metadata": {},
   "outputs": [],
   "source": [
    "targets_train=targets_traintest.loc[targets_traintest.TARGET!='test']"
   ]
  },
  {
   "cell_type": "code",
   "execution_count": 4,
   "id": "92e6fcd2-f0e4-4037-82fe-7131fa4e89dc",
   "metadata": {},
   "outputs": [],
   "source": [
    "tmp_df = features_friends.merge(targets_train, on='CLIENT_ID', how = 'left')\n"
   ]
  },
  {
   "cell_type": "code",
   "execution_count": 5,
   "id": "1c48ab57-28ad-4fb8-9ee6-c9cbb18b9537",
   "metadata": {},
   "outputs": [],
   "source": [
    "tmp_df.dropna(inplace=True)"
   ]
  },
  {
   "cell_type": "code",
   "execution_count": 6,
   "id": "434bdddf-4531-4074-aad6-cbef25561c6f",
   "metadata": {},
   "outputs": [],
   "source": [
    "tmp_df['TARGET'] = tmp_df['TARGET'].astype(int)"
   ]
  },
  {
   "cell_type": "code",
   "execution_count": 7,
   "id": "3aca2ea7-548c-4bf1-8e66-b07b9b7f959e",
   "metadata": {},
   "outputs": [],
   "source": [
    "features_columns = tmp_df.drop(['CLIENT_ID', 'FRIEND_ID', 'RETRO_DT','TARGET'], axis = 1).columns\n",
    "clients_ids = pd.unique(tmp_df['CLIENT_ID'])"
   ]
  },
  {
   "cell_type": "code",
   "execution_count": 20,
   "id": "72f46efc-aa0a-41ac-9912-3843bf8df196",
   "metadata": {},
   "outputs": [],
   "source": [
    "import torch.nn.functional as F\n",
    "\n",
    "\n",
    "class Graphs:\n",
    "    \n",
    "    def __init__(self,clients_ids, df,future_columns, test = False):\n",
    "        self.clients_ids = clients_ids\n",
    "        self.df = df\n",
    "        self.future_columns = future_columns\n",
    "        self.test = test\n",
    "    \n",
    "    def normalize(self):\n",
    "        pass\n",
    "    \n",
    "    def __len__(self):\n",
    "        return len(self.clients_ids)\n",
    "    \n",
    "    \n",
    "    def __getitem__(self, index):\n",
    "        series = self.df.loc[self.df['CLIENT_ID'] == self.clients_ids[index]]\n",
    "        mean = np.array(Graphs.get_mean(series[self.future_columns].values.T)).reshape(1,-1)\n",
    "        if self.test:\n",
    "            labels = 0\n",
    "        else:\n",
    "            labels = series['TARGET'].iloc[0]\n",
    "            labels = np.eye(2, dtype=int)[labels]\n",
    "        arrays = series[self.future_columns]\n",
    "        edge_idx = Graphs.build_edge_idx(len(arrays)-1)\n",
    "        if self.test:\n",
    "            arrays = arrays.values\n",
    "        else:\n",
    "            arrays = np.concatenate((arrays.values,mean))\n",
    "        arrays = torch.from_numpy(arrays).to(torch.long)\n",
    "        data = Data(x = arrays, y = torch.Tensor(labels).to(torch.long), edge_index = Graphs.build_edge_idx(len(arrays)))\n",
    "        return data\n",
    "                    \n",
    "                    \n",
    "    @staticmethod\n",
    "    def build_edge_idx(num_nodes):\n",
    "    # Initialize edge index matrix\n",
    "        E = torch.zeros((2, num_nodes * (num_nodes - 1)), dtype=torch.long)\n",
    "\n",
    "        # Populate 1st row\n",
    "        for node in range(num_nodes):\n",
    "            for neighbor in range(num_nodes - 1):\n",
    "                E[0, node * (num_nodes - 1) + neighbor] = node\n",
    "\n",
    "        # Populate 2nd row\n",
    "        neighbors = []\n",
    "        for node in range(num_nodes):\n",
    "            neighbors.append(list(np.arange(node)) + list(np.arange(node+1, num_nodes)))\n",
    "        E[1, :] = torch.Tensor([item for sublist in neighbors for item in sublist])\n",
    "\n",
    "        return E\n",
    "    \n",
    "    @staticmethod\n",
    "    def get_mean(vector_features):\n",
    "        embeddings_mean = list()\n",
    "        for item in vector_features:\n",
    "            embeddings_mean.append(np.mean(item))\n",
    "        return embeddings_mean\n",
    "    \n",
    "        \n",
    "        \n",
    "        \n",
    "        \n",
    "        \n",
    "        \n",
    "    "
   ]
  },
  {
   "cell_type": "code",
   "execution_count": 14,
   "id": "5f3de05f-bdfd-4100-acef-6a86ab78028c",
   "metadata": {},
   "outputs": [],
   "source": [
    "g = Graphs(clients_ids, tmp_df, features_columns)"
   ]
  },
  {
   "cell_type": "code",
   "execution_count": 15,
   "id": "820fed24-ecf9-4ba8-abd0-500ed2a1d96c",
   "metadata": {},
   "outputs": [
    {
     "data": {
      "text/plain": [
       "Data(x=[81, 1014], edge_index=[2, 6480], y=[2])"
      ]
     },
     "execution_count": 15,
     "metadata": {},
     "output_type": "execute_result"
    }
   ],
   "source": [
    "g[0]"
   ]
  },
  {
   "cell_type": "code",
   "execution_count": 54,
   "id": "74b75b8d-6c91-4c06-8a7e-fbe82e073fc5",
   "metadata": {},
   "outputs": [],
   "source": [
    "import torch\n",
    "import torch.nn.functional as F\n",
    "import torch.nn as nn\n",
    "from torch_geometric.nn import GCNConv\n",
    "\n",
    "class TwoLayerGCN(nn.Module):\n",
    "    def __init__(self, input_size, hidden_size, output_size, dropout=0.1):\n",
    "        super(TwoLayerGCN, self).__init__()\n",
    "\n",
    "        self.conv1 = GCNConv(input_size, hidden_size)\n",
    "        self.conv2 = GCNConv(hidden_size, output_size)\n",
    "        self.relu = nn.ReLU()\n",
    "        self.dropout = nn.Dropout(dropout)\n",
    "        self.sgm = nn.Sigmoid()\n",
    "\n",
    "    def forward(self,data):\n",
    "        x, ed_idx = data.x.float(), data.edge_index\n",
    "        x = self.dropout(x)\n",
    "        x = self.conv1(x, ed_idx)\n",
    "        x = self.relu(x)\n",
    "        x = self.dropout(x)\n",
    "        x = self.conv2(x, ed_idx)\n",
    "        return self.sgm(x)\n"
   ]
  },
  {
   "cell_type": "code",
   "execution_count": 34,
   "id": "f7125760-bb57-4435-9f59-f59c78307472",
   "metadata": {},
   "outputs": [],
   "source": [
    "model_nn = TwoLayerGCN(1014,16,2)"
   ]
  },
  {
   "cell_type": "code",
   "execution_count": 507,
   "id": "cc2c36c4-d97b-44fa-a66c-69cad952b8ad",
   "metadata": {},
   "outputs": [],
   "source": [
    "from tqdm import tqdm\n",
    "def train(model, DataClass, loss_fn, epochs = 10):\n",
    "    optimizer = torch.optim.Adam(model.parameters(), lr=0.01, weight_decay=5e-4)\n",
    "    train_loss = []\n",
    "    for epoch in range(epochs):\n",
    "        for index in range(len(DataClass)):\n",
    "            optimizer.zero_grad()\n",
    "            out = model(DataClass[index])\n",
    "            loss = loss_fn(out[-1].float(), DataClass[index].y.float())\n",
    "            loss.backward()\n",
    "            train_loss.append(loss.item())\n",
    "            optimizer.step()\n",
    "        print(epoch)\n",
    "    return model,train_loss"
   ]
  },
  {
   "cell_type": "code",
   "execution_count": 508,
   "id": "070dcc30-5faf-40e9-b0fe-48e765053046",
   "metadata": {},
   "outputs": [],
   "source": [
    "loss = nn.CrossEntropyLoss()"
   ]
  },
  {
   "cell_type": "code",
   "execution_count": 509,
   "id": "2b464ff0-307e-41ff-a505-4380776b7e47",
   "metadata": {},
   "outputs": [
    {
     "name": "stdout",
     "output_type": "stream",
     "text": [
      "240.784423828125\n",
      "-0.0\n",
      "0.5522956252098083\n",
      "0.6407848596572876\n",
      "0.5657762885093689\n",
      "0\n",
      "0.5601586103439331\n",
      "0.5433701872825623\n",
      "0.45990580320358276\n",
      "0.6327509880065918\n",
      "0.5548149943351746\n",
      "1\n",
      "0.5505769848823547\n",
      "0.539155900478363\n",
      "0.4521910548210144\n",
      "0.6317821145057678\n",
      "0.5534007549285889\n",
      "2\n",
      "0.5493013858795166\n",
      "0.5384495854377747\n",
      "0.4570218324661255\n",
      "0.638260543346405\n",
      "0.5548508763313293\n",
      "3\n",
      "0.550449013710022\n",
      "0.5386836528778076\n",
      "0.4603298008441925\n",
      "0.6410010457038879\n",
      "0.5553633570671082\n",
      "4\n",
      "0.5508409142494202\n",
      "0.5387226939201355\n",
      "0.45702844858169556\n",
      "0.6380674839019775\n",
      "0.5543151497840881\n",
      "5\n",
      "0.5499603748321533\n",
      "0.5383859276771545\n",
      "0.45615842938423157\n",
      "0.640110969543457\n",
      "0.5510740876197815\n",
      "6\n",
      "0.547279417514801\n",
      "0.5374847054481506\n",
      "0.45580819249153137\n",
      "0.632197380065918\n",
      "0.5524407625198364\n",
      "7\n",
      "0.5484054088592529\n",
      "0.5378463864326477\n",
      "0.4585231840610504\n",
      "0.6414981484413147\n",
      "0.5513993501663208\n",
      "8\n",
      "0.5475409030914307\n",
      "0.537548303604126\n",
      "0.45436233282089233\n",
      "0.6397098898887634\n",
      "0.5545995235443115\n",
      "9\n"
     ]
    }
   ],
   "source": [
    "model,train_losses = train(model_nn, g , loss)"
   ]
  },
  {
   "cell_type": "code",
   "execution_count": 510,
   "id": "63711ea8-2a9a-4148-8c7f-fa04772b8b41",
   "metadata": {},
   "outputs": [],
   "source": [
    "torch.save(model.state_dict(), 'model.pt')\n"
   ]
  },
  {
   "cell_type": "markdown",
   "id": "5a49a619-7591-4d5e-aa83-948d93979ca0",
   "metadata": {},
   "source": [
    "\n",
    "## CATBOOST"
   ]
  },
  {
   "cell_type": "code",
   "execution_count": 58,
   "id": "b29852af-464d-4697-a012-c5cbe8e4297f",
   "metadata": {},
   "outputs": [
    {
     "name": "stdout",
     "output_type": "stream",
     "text": [
      "CPU times: user 2.99 s, sys: 3.87 ms, total: 3 s\n",
      "Wall time: 3 s\n"
     ]
    }
   ],
   "source": [
    "%%time\n",
    "X = np.array([Graphs.get_mean(tmp_df.loc[tmp_df.CLIENT_ID == item][features_columns].values.T) for item in pd.unique(tmp_df.CLIENT_ID)])\n",
    "y = np.array([tmp_df.loc[tmp_df.CLIENT_ID == item]['TARGET'].iloc[0] for item in pd.unique(tmp_df.CLIENT_ID)])"
   ]
  },
  {
   "cell_type": "code",
   "execution_count": 59,
   "id": "76895a82-493d-4e51-b3a1-d81c597808aa",
   "metadata": {},
   "outputs": [],
   "source": [
    "from catboost import CatBoostClassifier"
   ]
  },
  {
   "cell_type": "code",
   "execution_count": 60,
   "id": "cf618350-c0ca-4dce-b0e3-d9326b9de716",
   "metadata": {},
   "outputs": [],
   "source": [
    "catboostmodel = CatBoostClassifier(learning_rate = 0.05, \n",
    "                                   n_estimators= 2000,\n",
    "                                   max_depth=5, \n",
    "                                   verbose= False)"
   ]
  },
  {
   "cell_type": "code",
   "execution_count": 61,
   "id": "f4e92445-c039-4645-85ac-9708831a5cfb",
   "metadata": {},
   "outputs": [
    {
     "data": {
      "text/plain": [
       "<catboost.core.CatBoostClassifier at 0x7f5e74a8aa30>"
      ]
     },
     "execution_count": 61,
     "metadata": {},
     "output_type": "execute_result"
    }
   ],
   "source": [
    "\n",
    "catboostmodel.fit(X,y)\n",
    "        # models.append(model)"
   ]
  },
  {
   "cell_type": "code",
   "execution_count": 77,
   "id": "2b4e43db-06b2-4c15-acf0-514ee93727c5",
   "metadata": {},
   "outputs": [],
   "source": [
    "catboostmodel.save_model('catboost_model') "
   ]
  },
  {
   "cell_type": "markdown",
   "id": "a8d08e65-59ce-43d9-9887-957220aaa59d",
   "metadata": {},
   "source": [
    "# PREDICT"
   ]
  },
  {
   "cell_type": "code",
   "execution_count": 36,
   "id": "7b2f9729-3337-4fc4-8b85-fa6ab6693c2c",
   "metadata": {},
   "outputs": [
    {
     "data": {
      "text/plain": [
       "<All keys matched successfully>"
      ]
     },
     "execution_count": 36,
     "metadata": {},
     "output_type": "execute_result"
    }
   ],
   "source": [
    "checkpoint = torch.load('model.pt')\n",
    "model_nn.load_state_dict(checkpoint)\n"
   ]
  },
  {
   "cell_type": "code",
   "execution_count": 37,
   "id": "99bd4e63-9585-47bd-83c6-151ba0244d6b",
   "metadata": {},
   "outputs": [
    {
     "data": {
      "text/plain": [
       "TwoLayerGCN(\n",
       "  (conv1): GCNConv(1014, 16)\n",
       "  (conv2): GCNConv(16, 2)\n",
       "  (relu): ReLU()\n",
       "  (dropout): Dropout(p=0.1, inplace=False)\n",
       ")"
      ]
     },
     "execution_count": 37,
     "metadata": {},
     "output_type": "execute_result"
    }
   ],
   "source": [
    "model_nn"
   ]
  },
  {
   "cell_type": "code",
   "execution_count": 62,
   "id": "a6842dbb-98ed-4d0b-b09e-349af49a5066",
   "metadata": {},
   "outputs": [],
   "source": [
    "targets_test=targets_traintest.loc[targets_traintest.TARGET == 'test']"
   ]
  },
  {
   "cell_type": "code",
   "execution_count": 63,
   "id": "ce4e5ac4-e5b6-43bf-881b-c4e8231f52bb",
   "metadata": {},
   "outputs": [
    {
     "data": {
      "text/html": [
       "<div>\n",
       "<style scoped>\n",
       "    .dataframe tbody tr th:only-of-type {\n",
       "        vertical-align: middle;\n",
       "    }\n",
       "\n",
       "    .dataframe tbody tr th {\n",
       "        vertical-align: top;\n",
       "    }\n",
       "\n",
       "    .dataframe thead th {\n",
       "        text-align: right;\n",
       "    }\n",
       "</style>\n",
       "<table border=\"1\" class=\"dataframe\">\n",
       "  <thead>\n",
       "    <tr style=\"text-align: right;\">\n",
       "      <th></th>\n",
       "      <th>CLIENT_ID</th>\n",
       "      <th>RETRO_DT</th>\n",
       "      <th>TARGET</th>\n",
       "      <th>i1047</th>\n",
       "      <th>i1048</th>\n",
       "      <th>i1056</th>\n",
       "      <th>i1058</th>\n",
       "      <th>i1059</th>\n",
       "      <th>i1060</th>\n",
       "      <th>i1065</th>\n",
       "      <th>...</th>\n",
       "      <th>u8=18</th>\n",
       "      <th>u8=19</th>\n",
       "      <th>u8=2</th>\n",
       "      <th>u8=20</th>\n",
       "      <th>u8=21</th>\n",
       "      <th>u8=6</th>\n",
       "      <th>u8=7</th>\n",
       "      <th>u8=8</th>\n",
       "      <th>u8=9</th>\n",
       "      <th>FRIEND_ID</th>\n",
       "    </tr>\n",
       "  </thead>\n",
       "  <tbody>\n",
       "    <tr>\n",
       "      <th>0</th>\n",
       "      <td>1025140</td>\n",
       "      <td>20210501</td>\n",
       "      <td>test</td>\n",
       "      <td>0.0</td>\n",
       "      <td>0.0</td>\n",
       "      <td>0.0</td>\n",
       "      <td>0.0</td>\n",
       "      <td>0.0</td>\n",
       "      <td>0.0</td>\n",
       "      <td>0.0</td>\n",
       "      <td>...</td>\n",
       "      <td>0.0</td>\n",
       "      <td>0.0</td>\n",
       "      <td>0.0</td>\n",
       "      <td>0.0</td>\n",
       "      <td>0.0</td>\n",
       "      <td>0.0</td>\n",
       "      <td>0.0</td>\n",
       "      <td>0.0</td>\n",
       "      <td>0.0</td>\n",
       "      <td>0.0</td>\n",
       "    </tr>\n",
       "    <tr>\n",
       "      <th>1</th>\n",
       "      <td>1029732</td>\n",
       "      <td>20210501</td>\n",
       "      <td>test</td>\n",
       "      <td>0.0</td>\n",
       "      <td>0.0</td>\n",
       "      <td>0.0</td>\n",
       "      <td>0.0</td>\n",
       "      <td>0.0</td>\n",
       "      <td>0.0</td>\n",
       "      <td>0.0</td>\n",
       "      <td>...</td>\n",
       "      <td>0.0</td>\n",
       "      <td>0.0</td>\n",
       "      <td>0.0</td>\n",
       "      <td>0.0</td>\n",
       "      <td>0.0</td>\n",
       "      <td>0.0</td>\n",
       "      <td>0.0</td>\n",
       "      <td>0.0</td>\n",
       "      <td>0.0</td>\n",
       "      <td>0.0</td>\n",
       "    </tr>\n",
       "    <tr>\n",
       "      <th>2</th>\n",
       "      <td>1079794</td>\n",
       "      <td>20210501</td>\n",
       "      <td>test</td>\n",
       "      <td>0.0</td>\n",
       "      <td>0.0</td>\n",
       "      <td>0.0</td>\n",
       "      <td>0.0</td>\n",
       "      <td>0.0</td>\n",
       "      <td>0.0</td>\n",
       "      <td>0.0</td>\n",
       "      <td>...</td>\n",
       "      <td>0.0</td>\n",
       "      <td>0.0</td>\n",
       "      <td>0.0</td>\n",
       "      <td>0.0</td>\n",
       "      <td>0.0</td>\n",
       "      <td>0.0</td>\n",
       "      <td>0.0</td>\n",
       "      <td>0.0</td>\n",
       "      <td>0.0</td>\n",
       "      <td>0.0</td>\n",
       "    </tr>\n",
       "    <tr>\n",
       "      <th>3</th>\n",
       "      <td>1116331</td>\n",
       "      <td>20210501</td>\n",
       "      <td>test</td>\n",
       "      <td>0.0</td>\n",
       "      <td>0.0</td>\n",
       "      <td>0.0</td>\n",
       "      <td>0.0</td>\n",
       "      <td>0.0</td>\n",
       "      <td>0.0</td>\n",
       "      <td>0.0</td>\n",
       "      <td>...</td>\n",
       "      <td>0.0</td>\n",
       "      <td>0.0</td>\n",
       "      <td>0.0</td>\n",
       "      <td>0.0</td>\n",
       "      <td>0.0</td>\n",
       "      <td>0.0</td>\n",
       "      <td>0.0</td>\n",
       "      <td>0.0</td>\n",
       "      <td>0.0</td>\n",
       "      <td>0.0</td>\n",
       "    </tr>\n",
       "    <tr>\n",
       "      <th>4</th>\n",
       "      <td>1136822</td>\n",
       "      <td>20210501</td>\n",
       "      <td>test</td>\n",
       "      <td>0.0</td>\n",
       "      <td>0.0</td>\n",
       "      <td>0.0</td>\n",
       "      <td>0.0</td>\n",
       "      <td>0.0</td>\n",
       "      <td>0.0</td>\n",
       "      <td>0.0</td>\n",
       "      <td>...</td>\n",
       "      <td>0.0</td>\n",
       "      <td>0.0</td>\n",
       "      <td>0.0</td>\n",
       "      <td>0.0</td>\n",
       "      <td>0.0</td>\n",
       "      <td>0.0</td>\n",
       "      <td>0.0</td>\n",
       "      <td>0.0</td>\n",
       "      <td>0.0</td>\n",
       "      <td>0.0</td>\n",
       "    </tr>\n",
       "    <tr>\n",
       "      <th>...</th>\n",
       "      <td>...</td>\n",
       "      <td>...</td>\n",
       "      <td>...</td>\n",
       "      <td>...</td>\n",
       "      <td>...</td>\n",
       "      <td>...</td>\n",
       "      <td>...</td>\n",
       "      <td>...</td>\n",
       "      <td>...</td>\n",
       "      <td>...</td>\n",
       "      <td>...</td>\n",
       "      <td>...</td>\n",
       "      <td>...</td>\n",
       "      <td>...</td>\n",
       "      <td>...</td>\n",
       "      <td>...</td>\n",
       "      <td>...</td>\n",
       "      <td>...</td>\n",
       "      <td>...</td>\n",
       "      <td>...</td>\n",
       "      <td>...</td>\n",
       "    </tr>\n",
       "    <tr>\n",
       "      <th>39749</th>\n",
       "      <td>70294</td>\n",
       "      <td>20210731</td>\n",
       "      <td>test</td>\n",
       "      <td>0.0</td>\n",
       "      <td>0.0</td>\n",
       "      <td>0.0</td>\n",
       "      <td>0.0</td>\n",
       "      <td>0.0</td>\n",
       "      <td>0.0</td>\n",
       "      <td>0.0</td>\n",
       "      <td>...</td>\n",
       "      <td>0.0</td>\n",
       "      <td>0.0</td>\n",
       "      <td>0.0</td>\n",
       "      <td>0.0</td>\n",
       "      <td>0.0</td>\n",
       "      <td>0.0</td>\n",
       "      <td>0.0</td>\n",
       "      <td>0.0</td>\n",
       "      <td>0.0</td>\n",
       "      <td>0.0</td>\n",
       "    </tr>\n",
       "    <tr>\n",
       "      <th>39750</th>\n",
       "      <td>71247</td>\n",
       "      <td>20210731</td>\n",
       "      <td>test</td>\n",
       "      <td>0.0</td>\n",
       "      <td>0.0</td>\n",
       "      <td>0.0</td>\n",
       "      <td>0.0</td>\n",
       "      <td>0.0</td>\n",
       "      <td>0.0</td>\n",
       "      <td>0.0</td>\n",
       "      <td>...</td>\n",
       "      <td>0.0</td>\n",
       "      <td>0.0</td>\n",
       "      <td>0.0</td>\n",
       "      <td>0.0</td>\n",
       "      <td>0.0</td>\n",
       "      <td>0.0</td>\n",
       "      <td>0.0</td>\n",
       "      <td>0.0</td>\n",
       "      <td>0.0</td>\n",
       "      <td>0.0</td>\n",
       "    </tr>\n",
       "    <tr>\n",
       "      <th>39751</th>\n",
       "      <td>71657</td>\n",
       "      <td>20210731</td>\n",
       "      <td>test</td>\n",
       "      <td>0.0</td>\n",
       "      <td>0.0</td>\n",
       "      <td>0.0</td>\n",
       "      <td>0.0</td>\n",
       "      <td>0.0</td>\n",
       "      <td>0.0</td>\n",
       "      <td>0.0</td>\n",
       "      <td>...</td>\n",
       "      <td>0.0</td>\n",
       "      <td>0.0</td>\n",
       "      <td>0.0</td>\n",
       "      <td>0.0</td>\n",
       "      <td>0.0</td>\n",
       "      <td>0.0</td>\n",
       "      <td>0.0</td>\n",
       "      <td>0.0</td>\n",
       "      <td>0.0</td>\n",
       "      <td>0.0</td>\n",
       "    </tr>\n",
       "    <tr>\n",
       "      <th>39752</th>\n",
       "      <td>72631</td>\n",
       "      <td>20210731</td>\n",
       "      <td>test</td>\n",
       "      <td>0.0</td>\n",
       "      <td>0.0</td>\n",
       "      <td>0.0</td>\n",
       "      <td>0.0</td>\n",
       "      <td>0.0</td>\n",
       "      <td>0.0</td>\n",
       "      <td>0.0</td>\n",
       "      <td>...</td>\n",
       "      <td>0.0</td>\n",
       "      <td>0.0</td>\n",
       "      <td>0.0</td>\n",
       "      <td>0.0</td>\n",
       "      <td>0.0</td>\n",
       "      <td>0.0</td>\n",
       "      <td>0.0</td>\n",
       "      <td>0.0</td>\n",
       "      <td>0.0</td>\n",
       "      <td>0.0</td>\n",
       "    </tr>\n",
       "    <tr>\n",
       "      <th>39753</th>\n",
       "      <td>72642</td>\n",
       "      <td>20210731</td>\n",
       "      <td>test</td>\n",
       "      <td>0.0</td>\n",
       "      <td>0.0</td>\n",
       "      <td>0.0</td>\n",
       "      <td>0.0</td>\n",
       "      <td>0.0</td>\n",
       "      <td>0.0</td>\n",
       "      <td>0.0</td>\n",
       "      <td>...</td>\n",
       "      <td>0.0</td>\n",
       "      <td>0.0</td>\n",
       "      <td>0.0</td>\n",
       "      <td>0.0</td>\n",
       "      <td>0.0</td>\n",
       "      <td>0.0</td>\n",
       "      <td>0.0</td>\n",
       "      <td>0.0</td>\n",
       "      <td>0.0</td>\n",
       "      <td>0.0</td>\n",
       "    </tr>\n",
       "  </tbody>\n",
       "</table>\n",
       "<p>39754 rows × 1018 columns</p>\n",
       "</div>"
      ],
      "text/plain": [
       "       CLIENT_ID  RETRO_DT TARGET  i1047  i1048  i1056  i1058  i1059  i1060  \\\n",
       "0        1025140  20210501   test    0.0    0.0    0.0    0.0    0.0    0.0   \n",
       "1        1029732  20210501   test    0.0    0.0    0.0    0.0    0.0    0.0   \n",
       "2        1079794  20210501   test    0.0    0.0    0.0    0.0    0.0    0.0   \n",
       "3        1116331  20210501   test    0.0    0.0    0.0    0.0    0.0    0.0   \n",
       "4        1136822  20210501   test    0.0    0.0    0.0    0.0    0.0    0.0   \n",
       "...          ...       ...    ...    ...    ...    ...    ...    ...    ...   \n",
       "39749      70294  20210731   test    0.0    0.0    0.0    0.0    0.0    0.0   \n",
       "39750      71247  20210731   test    0.0    0.0    0.0    0.0    0.0    0.0   \n",
       "39751      71657  20210731   test    0.0    0.0    0.0    0.0    0.0    0.0   \n",
       "39752      72631  20210731   test    0.0    0.0    0.0    0.0    0.0    0.0   \n",
       "39753      72642  20210731   test    0.0    0.0    0.0    0.0    0.0    0.0   \n",
       "\n",
       "       i1065  ...  u8=18  u8=19  u8=2  u8=20  u8=21  u8=6  u8=7  u8=8  u8=9  \\\n",
       "0        0.0  ...    0.0    0.0   0.0    0.0    0.0   0.0   0.0   0.0   0.0   \n",
       "1        0.0  ...    0.0    0.0   0.0    0.0    0.0   0.0   0.0   0.0   0.0   \n",
       "2        0.0  ...    0.0    0.0   0.0    0.0    0.0   0.0   0.0   0.0   0.0   \n",
       "3        0.0  ...    0.0    0.0   0.0    0.0    0.0   0.0   0.0   0.0   0.0   \n",
       "4        0.0  ...    0.0    0.0   0.0    0.0    0.0   0.0   0.0   0.0   0.0   \n",
       "...      ...  ...    ...    ...   ...    ...    ...   ...   ...   ...   ...   \n",
       "39749    0.0  ...    0.0    0.0   0.0    0.0    0.0   0.0   0.0   0.0   0.0   \n",
       "39750    0.0  ...    0.0    0.0   0.0    0.0    0.0   0.0   0.0   0.0   0.0   \n",
       "39751    0.0  ...    0.0    0.0   0.0    0.0    0.0   0.0   0.0   0.0   0.0   \n",
       "39752    0.0  ...    0.0    0.0   0.0    0.0    0.0   0.0   0.0   0.0   0.0   \n",
       "39753    0.0  ...    0.0    0.0   0.0    0.0    0.0   0.0   0.0   0.0   0.0   \n",
       "\n",
       "       FRIEND_ID  \n",
       "0            0.0  \n",
       "1            0.0  \n",
       "2            0.0  \n",
       "3            0.0  \n",
       "4            0.0  \n",
       "...          ...  \n",
       "39749        0.0  \n",
       "39750        0.0  \n",
       "39751        0.0  \n",
       "39752        0.0  \n",
       "39753        0.0  \n",
       "\n",
       "[39754 rows x 1018 columns]"
      ]
     },
     "execution_count": 63,
     "metadata": {},
     "output_type": "execute_result"
    }
   ],
   "source": [
    "merged = targets_test.merge(features_friends, on= 'CLIENT_ID', how = 'left')\n",
    "merged.fillna(0)"
   ]
  },
  {
   "cell_type": "code",
   "execution_count": 64,
   "id": "fb273a61-c882-491f-be45-6c49a34f4d6b",
   "metadata": {},
   "outputs": [
    {
     "data": {
      "text/plain": [
       "31858"
      ]
     },
     "execution_count": 64,
     "metadata": {},
     "output_type": "execute_result"
    }
   ],
   "source": [
    "len(pd.unique(merged.CLIENT_ID))"
   ]
  },
  {
   "cell_type": "code",
   "execution_count": 66,
   "id": "5876cc58-a7a4-4d50-89b2-782355a7b027",
   "metadata": {},
   "outputs": [
    {
     "name": "stderr",
     "output_type": "stream",
     "text": [
      "100%|██████████| 31858/31858 [03:19<00:00, 159.57it/s]"
     ]
    },
    {
     "name": "stdout",
     "output_type": "stream",
     "text": [
      "CPU times: user 3min 20s, sys: 1.41 s, total: 3min 21s\n",
      "Wall time: 3min 21s\n"
     ]
    },
    {
     "name": "stderr",
     "output_type": "stream",
     "text": [
      "\n"
     ]
    }
   ],
   "source": [
    "%%time\n",
    "from tqdm import tqdm\n",
    "X = np.array([Graphs.get_mean(merged.loc[merged.CLIENT_ID == item][features_columns].values.T) for item in tqdm(pd.unique(merged.CLIENT_ID))])\n"
   ]
  },
  {
   "cell_type": "code",
   "execution_count": 15,
   "id": "d7fd94c8-fce8-439a-8aaa-0be8f2d6e56e",
   "metadata": {},
   "outputs": [],
   "source": [
    "import gc"
   ]
  },
  {
   "cell_type": "code",
   "execution_count": 42,
   "id": "a1ac9922-4ae3-4737-9632-ecd93b31c975",
   "metadata": {},
   "outputs": [
    {
     "data": {
      "text/plain": [
       "31858"
      ]
     },
     "execution_count": 42,
     "metadata": {},
     "output_type": "execute_result"
    }
   ],
   "source": [
    "len(GTest)"
   ]
  },
  {
   "cell_type": "code",
   "execution_count": 41,
   "id": "7fb7e572-0c22-4926-a201-f011e9d99510",
   "metadata": {},
   "outputs": [],
   "source": [
    "GTest = Graphs(pd.unique(merged.CLIENT_ID), merged, future_columns = features_columns, test = True)"
   ]
  },
  {
   "cell_type": "code",
   "execution_count": 38,
   "id": "30295336-27ea-48ae-94a3-cb5d03388752",
   "metadata": {},
   "outputs": [],
   "source": [
    "def predict(model, GraphX):\n",
    "    predicted = []\n",
    "    model.eval()\n",
    "    with torch.no_grad():\n",
    "        for i in range(len(GraphX)):\n",
    "            output = model(GraphX[i])[-1,1]\n",
    "            predicted.append(output.item())\n",
    "    return predicted"
   ]
  },
  {
   "cell_type": "code",
   "execution_count": 44,
   "id": "df9eccf4-d625-410d-971c-fdee51f40d7a",
   "metadata": {},
   "outputs": [],
   "source": [
    "predict_nn = predict(model= model_nn, GraphX = GTest)"
   ]
  },
  {
   "cell_type": "code",
   "execution_count": 51,
   "id": "0b862e43-bdb9-416c-bb8b-c307cef12ce4",
   "metadata": {},
   "outputs": [],
   "source": [
    "import math\n",
    "\n",
    "def sigmoid(x):\n",
    "    return 1 / (1 + math.exp(-x))"
   ]
  },
  {
   "cell_type": "code",
   "execution_count": 52,
   "id": "4c78703a-436a-436f-a96a-0eca300709d6",
   "metadata": {},
   "outputs": [],
   "source": [
    "predict_nn = [sigmoid(item) for item in predict_nn]"
   ]
  },
  {
   "cell_type": "code",
   "execution_count": 69,
   "id": "68d8800f-674f-49e9-8f14-7a47450d2076",
   "metadata": {},
   "outputs": [],
   "source": [
    "ensemble_predict = [(predict_nn[i] * 0.4) + (predict_catboost[i] * 0.6) for i in range(len(predict_catboost))]"
   ]
  },
  {
   "cell_type": "code",
   "execution_count": 67,
   "id": "f72a14ef-a728-4c2c-9605-4b52666cb772",
   "metadata": {},
   "outputs": [],
   "source": [
    "predict_catboost = catboostmodel.predict_proba(X)"
   ]
  },
  {
   "cell_type": "code",
   "execution_count": 68,
   "id": "4d255fbf-e6be-4b7d-afd5-92d58668fdad",
   "metadata": {},
   "outputs": [],
   "source": [
    "predict_catboost = predict_catboost[:,1]"
   ]
  },
  {
   "cell_type": "code",
   "execution_count": 71,
   "id": "a783d8df-4650-40b2-bd1c-2bdaa7c88920",
   "metadata": {},
   "outputs": [],
   "source": [
    "sub = pd.DataFrame()\n",
    "sub['CLIENT_ID'] = pd.unique(merged.CLIENT_ID)"
   ]
  },
  {
   "cell_type": "code",
   "execution_count": 74,
   "id": "88c318d0-c07e-4fb8-931c-0d16d00dbcbb",
   "metadata": {},
   "outputs": [],
   "source": [
    "sub['TARGET'] = ensemble_predict"
   ]
  },
  {
   "cell_type": "code",
   "execution_count": 76,
   "id": "aa107374-c2d4-49b9-a0e1-e9657cb7de93",
   "metadata": {},
   "outputs": [],
   "source": [
    "sub.to_csv('Submit.csv', index = False)"
   ]
  },
  {
   "cell_type": "code",
   "execution_count": null,
   "id": "07d3980a-f90f-41b2-a547-e8936d6d97d2",
   "metadata": {},
   "outputs": [],
   "source": []
  }
 ],
 "metadata": {
  "kernelspec": {
   "display_name": "Python 3 (ipykernel)",
   "language": "python",
   "name": "python3"
  },
  "language_info": {
   "codemirror_mode": {
    "name": "ipython",
    "version": 3
   },
   "file_extension": ".py",
   "mimetype": "text/x-python",
   "name": "python",
   "nbconvert_exporter": "python",
   "pygments_lexer": "ipython3",
   "version": "3.9.7"
  }
 },
 "nbformat": 4,
 "nbformat_minor": 5
}
