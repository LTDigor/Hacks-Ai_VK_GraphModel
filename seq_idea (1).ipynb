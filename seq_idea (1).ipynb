{
 "cells": [
  {
   "cell_type": "code",
   "execution_count": 1,
   "id": "cf1eb2b0-b92c-4837-aaa9-1b2b748de54a",
   "metadata": {},
   "outputs": [],
   "source": [
    "import pandas as pd"
   ]
  },
  {
   "cell_type": "code",
   "execution_count": 7,
   "id": "5343099a-6b25-4758-a852-14bd79c9cee4",
   "metadata": {},
   "outputs": [],
   "source": [
    "features_friends = pd.read_csv(\"../data/FINAL_FEATURES_FRIENDS.tsv\", sep=\"\\t\")\n",
    "target_traintest = pd.read_csv(\"../data/FINAL_TARGETS_DATES_TRAINTEST.tsv\", sep=\"\\t\")\n",
    "sequences_matrix = pd.read_csv(\"../data/FINAL_SEQUENCES_MATRIX.tsv\", sep=\"\\t\")\n",
    "all_sequences_matrix = pd.read_csv(\"../data/FINAL_ALL_SEQUENCES_TRAINTEST.tsv\", sep=\"\\t\")\n",
    "targets_traintest = pd.read_csv(\"../data/FINAL_TARGETS_DATES_TRAINTEST.tsv\", sep=\"\\t\")"
   ]
  },
  {
   "cell_type": "code",
   "execution_count": 9,
   "id": "4c70a038-6590-4011-85da-ca1e0bdae99f",
   "metadata": {},
   "outputs": [
    {
     "data": {
      "text/html": [
       "<div>\n",
       "<style scoped>\n",
       "    .dataframe tbody tr th:only-of-type {\n",
       "        vertical-align: middle;\n",
       "    }\n",
       "\n",
       "    .dataframe tbody tr th {\n",
       "        vertical-align: top;\n",
       "    }\n",
       "\n",
       "    .dataframe thead th {\n",
       "        text-align: right;\n",
       "    }\n",
       "</style>\n",
       "<table border=\"1\" class=\"dataframe\">\n",
       "  <thead>\n",
       "    <tr style=\"text-align: right;\">\n",
       "      <th></th>\n",
       "      <th>CLIENT_ID</th>\n",
       "      <th>RETRO_DT</th>\n",
       "      <th>TARGET</th>\n",
       "    </tr>\n",
       "  </thead>\n",
       "  <tbody>\n",
       "    <tr>\n",
       "      <th>0</th>\n",
       "      <td>1011725</td>\n",
       "      <td>20210501</td>\n",
       "      <td>0</td>\n",
       "    </tr>\n",
       "    <tr>\n",
       "      <th>1</th>\n",
       "      <td>1018784</td>\n",
       "      <td>20210501</td>\n",
       "      <td>1</td>\n",
       "    </tr>\n",
       "    <tr>\n",
       "      <th>2</th>\n",
       "      <td>1021812</td>\n",
       "      <td>20210501</td>\n",
       "      <td>0</td>\n",
       "    </tr>\n",
       "    <tr>\n",
       "      <th>3</th>\n",
       "      <td>1024003</td>\n",
       "      <td>20210501</td>\n",
       "      <td>0</td>\n",
       "    </tr>\n",
       "    <tr>\n",
       "      <th>4</th>\n",
       "      <td>1025140</td>\n",
       "      <td>20210501</td>\n",
       "      <td>test</td>\n",
       "    </tr>\n",
       "    <tr>\n",
       "      <th>...</th>\n",
       "      <td>...</td>\n",
       "      <td>...</td>\n",
       "      <td>...</td>\n",
       "    </tr>\n",
       "    <tr>\n",
       "      <th>159285</th>\n",
       "      <td>72633</td>\n",
       "      <td>20210731</td>\n",
       "      <td>0</td>\n",
       "    </tr>\n",
       "    <tr>\n",
       "      <th>159286</th>\n",
       "      <td>72634</td>\n",
       "      <td>20210731</td>\n",
       "      <td>1</td>\n",
       "    </tr>\n",
       "    <tr>\n",
       "      <th>159287</th>\n",
       "      <td>72641</td>\n",
       "      <td>20210731</td>\n",
       "      <td>0</td>\n",
       "    </tr>\n",
       "    <tr>\n",
       "      <th>159288</th>\n",
       "      <td>72642</td>\n",
       "      <td>20210731</td>\n",
       "      <td>test</td>\n",
       "    </tr>\n",
       "    <tr>\n",
       "      <th>159289</th>\n",
       "      <td>72643</td>\n",
       "      <td>20210731</td>\n",
       "      <td>0</td>\n",
       "    </tr>\n",
       "  </tbody>\n",
       "</table>\n",
       "<p>159290 rows × 3 columns</p>\n",
       "</div>"
      ],
      "text/plain": [
       "        CLIENT_ID  RETRO_DT TARGET\n",
       "0         1011725  20210501      0\n",
       "1         1018784  20210501      1\n",
       "2         1021812  20210501      0\n",
       "3         1024003  20210501      0\n",
       "4         1025140  20210501   test\n",
       "...           ...       ...    ...\n",
       "159285      72633  20210731      0\n",
       "159286      72634  20210731      1\n",
       "159287      72641  20210731      0\n",
       "159288      72642  20210731   test\n",
       "159289      72643  20210731      0\n",
       "\n",
       "[159290 rows x 3 columns]"
      ]
     },
     "execution_count": 9,
     "metadata": {},
     "output_type": "execute_result"
    }
   ],
   "source": [
    "targets_traintest"
   ]
  },
  {
   "cell_type": "code",
   "execution_count": 137,
   "id": "fb212814-cde1-448d-843f-454bcf943daf",
   "metadata": {},
   "outputs": [
    {
     "data": {
      "text/html": [
       "<div>\n",
       "<style scoped>\n",
       "    .dataframe tbody tr th:only-of-type {\n",
       "        vertical-align: middle;\n",
       "    }\n",
       "\n",
       "    .dataframe tbody tr th {\n",
       "        vertical-align: top;\n",
       "    }\n",
       "\n",
       "    .dataframe thead th {\n",
       "        text-align: right;\n",
       "    }\n",
       "</style>\n",
       "<table border=\"1\" class=\"dataframe\">\n",
       "  <thead>\n",
       "    <tr style=\"text-align: right;\">\n",
       "      <th></th>\n",
       "      <th>CLIENT_ID</th>\n",
       "      <th>SEQUENCE</th>\n",
       "    </tr>\n",
       "  </thead>\n",
       "  <tbody>\n",
       "    <tr>\n",
       "      <th>0</th>\n",
       "      <td>1000100</td>\n",
       "      <td>['e84b0f471b8e8f4aecc81eb27b16c092', '9a7670be...</td>\n",
       "    </tr>\n",
       "    <tr>\n",
       "      <th>1</th>\n",
       "      <td>1000121</td>\n",
       "      <td>['9804a8d70c5e8c26830bdafe2c2db49c', '9ca02fb0...</td>\n",
       "    </tr>\n",
       "    <tr>\n",
       "      <th>2</th>\n",
       "      <td>1000131</td>\n",
       "      <td>['b496d19eb25556bd64e481d11b6f7dd6', 'eb727f97...</td>\n",
       "    </tr>\n",
       "    <tr>\n",
       "      <th>3</th>\n",
       "      <td>1000132</td>\n",
       "      <td>['467a38fe36ef666e264823387f66f3c8', 'e0494409...</td>\n",
       "    </tr>\n",
       "    <tr>\n",
       "      <th>4</th>\n",
       "      <td>100013</td>\n",
       "      <td>['b496d19eb25556bd64e481d11b6f7dd6', 'fc18cab3...</td>\n",
       "    </tr>\n",
       "    <tr>\n",
       "      <th>...</th>\n",
       "      <td>...</td>\n",
       "      <td>...</td>\n",
       "    </tr>\n",
       "    <tr>\n",
       "      <th>33501</th>\n",
       "      <td>1527977</td>\n",
       "      <td>['3f819f6851b76254d0f44bec0257f0ab', 'ae6a5d73...</td>\n",
       "    </tr>\n",
       "    <tr>\n",
       "      <th>33502</th>\n",
       "      <td>1527978</td>\n",
       "      <td>['be04cee85f8fcac172e31087a4cfe9a4', 'e65bd9b1...</td>\n",
       "    </tr>\n",
       "    <tr>\n",
       "      <th>33503</th>\n",
       "      <td>1527979</td>\n",
       "      <td>['1e29cee0e09978aa6ef06b8a079a0522', '5f86735e...</td>\n",
       "    </tr>\n",
       "    <tr>\n",
       "      <th>33504</th>\n",
       "      <td>1527980</td>\n",
       "      <td>['e841b1dc98f3b54f95c0f496cd2769fb', '7640bb09...</td>\n",
       "    </tr>\n",
       "    <tr>\n",
       "      <th>33505</th>\n",
       "      <td>1527981</td>\n",
       "      <td>['72b88f72bca2636844bb14b9cd9e29b3', '8f5fe68f...</td>\n",
       "    </tr>\n",
       "  </tbody>\n",
       "</table>\n",
       "<p>33506 rows × 2 columns</p>\n",
       "</div>"
      ],
      "text/plain": [
       "       CLIENT_ID                                           SEQUENCE\n",
       "0        1000100  ['e84b0f471b8e8f4aecc81eb27b16c092', '9a7670be...\n",
       "1        1000121  ['9804a8d70c5e8c26830bdafe2c2db49c', '9ca02fb0...\n",
       "2        1000131  ['b496d19eb25556bd64e481d11b6f7dd6', 'eb727f97...\n",
       "3        1000132  ['467a38fe36ef666e264823387f66f3c8', 'e0494409...\n",
       "4         100013  ['b496d19eb25556bd64e481d11b6f7dd6', 'fc18cab3...\n",
       "...          ...                                                ...\n",
       "33501    1527977  ['3f819f6851b76254d0f44bec0257f0ab', 'ae6a5d73...\n",
       "33502    1527978  ['be04cee85f8fcac172e31087a4cfe9a4', 'e65bd9b1...\n",
       "33503    1527979  ['1e29cee0e09978aa6ef06b8a079a0522', '5f86735e...\n",
       "33504    1527980  ['e841b1dc98f3b54f95c0f496cd2769fb', '7640bb09...\n",
       "33505    1527981  ['72b88f72bca2636844bb14b9cd9e29b3', '8f5fe68f...\n",
       "\n",
       "[33506 rows x 2 columns]"
      ]
     },
     "execution_count": 137,
     "metadata": {},
     "output_type": "execute_result"
    }
   ],
   "source": [
    "all_sequences_matrix"
   ]
  },
  {
   "cell_type": "code",
   "execution_count": 140,
   "id": "848b46b9-f4cb-47a3-9bba-2a73b40da040",
   "metadata": {},
   "outputs": [
    {
     "data": {
      "text/plain": [
       "0a0262a3ff2f66dfbc8393f654f04cec     1\n",
       "123ce1d2bea3cf5e381ef706605b5aaa     2\n",
       "179a7187f9dbf227e3751608d6796319     2\n",
       "23114079654c0224e07fe90619744944     2\n",
       "2f082fd4ed36762c9cbbdb08945bd55f     1\n",
       "393a7e7006bb3c2470a93c67429b8d2c     1\n",
       "41d71f48089e26dcf46e86474f3568b1     1\n",
       "468e25839a56ee5706895fcbb8f5aa00     1\n",
       "54af40549feac8c648d573775777c823     1\n",
       "55b02de9badb0873fee3245d88d0d798     1\n",
       "5b47ea7718d6194ed6049085bd4c747f     1\n",
       "5fc209998dca06f1618a78b66cd5d827     1\n",
       "9a7670be67a118ddd4b30f5cdd3b035e     2\n",
       "9cb3abf65fd1465b1c8f829a73761f56     1\n",
       "9efdb3061afc3c2ccf67088e2b30bca5     1\n",
       "acb4ac11bd962f9a3e05042e5b1a260a     1\n",
       "aeb4b083a0762ecba2222942ab6b7e22     2\n",
       "c82c51bc925071ff17983d79b472c9f8     2\n",
       "ca431c645b8bbf6de0a2ce1f9856af50     1\n",
       "d107595edd990ec01718897044bf78ba     1\n",
       "d48a3ba9247bc34d3ef617cb5cb9c5e5     3\n",
       "d50d5cf3b37b8728bc1033bf5e537e39    11\n",
       "d8d8278d044dee0fdf62f12708b7fb7b     1\n",
       "db67edba557aecc4435c3bdca5c25d5f     1\n",
       "e26792c1136c8327db984baf56a84a75     2\n",
       "e65bd9b13ec4a97ac7b912f37c3e36d4     2\n",
       "e84b0f471b8e8f4aecc81eb27b16c092     1\n",
       "eb727f972742f7ff6b07ee761ae5da1b    22\n",
       "f143f08e6277cd0ed2c70680c4171de6     1\n",
       "f150c479778accab9c439eefe6bd22b4     1\n",
       "dtype: int64"
      ]
     },
     "execution_count": 140,
     "metadata": {},
     "output_type": "execute_result"
    }
   ],
   "source": [
    "pd.get_dummies(all_sequences_matrix[['SEQUENCE']].astype(str).values[0][0].replace(' ','').replace('[','').replace(']','').replace(\"'\",\"\").split(',')).sum()"
   ]
  },
  {
   "cell_type": "code",
   "execution_count": 143,
   "id": "e8815788-7b03-4158-9297-f8d88c387231",
   "metadata": {},
   "outputs": [
    {
     "data": {
      "text/plain": [
       "1"
      ]
     },
     "execution_count": 143,
     "metadata": {},
     "output_type": "execute_result"
    }
   ],
   "source": [
    "pd.get_dummies(all_sequences_matrix[['SEQUENCE']].astype(str).values[0][0].replace(' ','').replace('[','').replace(']','').replace(\"'\",\"\").split(',')).sum()[0]"
   ]
  },
  {
   "cell_type": "code",
   "execution_count": 142,
   "id": "42afbd6e-d024-493f-9114-e206e44838f4",
   "metadata": {},
   "outputs": [
    {
     "ename": "TypeError",
     "evalue": "'numpy.int64' object is not iterable",
     "output_type": "error",
     "traceback": [
      "\u001b[0;31m---------------------------------------------------------------------------\u001b[0m",
      "\u001b[0;31mTypeError\u001b[0m                                 Traceback (most recent call last)",
      "Cell \u001b[0;32mIn [142], line 1\u001b[0m\n\u001b[0;32m----> 1\u001b[0m \u001b[38;5;28;01mfor\u001b[39;00m i \u001b[38;5;129;01min\u001b[39;00m pd\u001b[38;5;241m.\u001b[39mget_dummies(all_sequences_matrix[[\u001b[38;5;124m'\u001b[39m\u001b[38;5;124mSEQUENCE\u001b[39m\u001b[38;5;124m'\u001b[39m]]\u001b[38;5;241m.\u001b[39mastype(\u001b[38;5;28mstr\u001b[39m)\u001b[38;5;241m.\u001b[39mvalues[\u001b[38;5;241m0\u001b[39m][\u001b[38;5;241m0\u001b[39m]\u001b[38;5;241m.\u001b[39mreplace(\u001b[38;5;124m'\u001b[39m\u001b[38;5;124m \u001b[39m\u001b[38;5;124m'\u001b[39m,\u001b[38;5;124m'\u001b[39m\u001b[38;5;124m'\u001b[39m)\u001b[38;5;241m.\u001b[39mreplace(\u001b[38;5;124m'\u001b[39m\u001b[38;5;124m[\u001b[39m\u001b[38;5;124m'\u001b[39m,\u001b[38;5;124m'\u001b[39m\u001b[38;5;124m'\u001b[39m)\u001b[38;5;241m.\u001b[39mreplace(\u001b[38;5;124m'\u001b[39m\u001b[38;5;124m]\u001b[39m\u001b[38;5;124m'\u001b[39m,\u001b[38;5;124m'\u001b[39m\u001b[38;5;124m'\u001b[39m)\u001b[38;5;241m.\u001b[39mreplace(\u001b[38;5;124m\"\u001b[39m\u001b[38;5;124m'\u001b[39m\u001b[38;5;124m\"\u001b[39m,\u001b[38;5;124m\"\u001b[39m\u001b[38;5;124m\"\u001b[39m)\u001b[38;5;241m.\u001b[39msplit(\u001b[38;5;124m'\u001b[39m\u001b[38;5;124m,\u001b[39m\u001b[38;5;124m'\u001b[39m))\u001b[38;5;241m.\u001b[39msum()[\u001b[38;5;241m0\u001b[39m]:\n\u001b[1;32m      2\u001b[0m     all_sequences_matrix[\u001b[38;5;28mstr\u001b[39m(i)]\u001b[38;5;241m=\u001b[39md\u001b[38;5;241m.\u001b[39mget_dummies(all_sequences_matrix[[\u001b[38;5;124m'\u001b[39m\u001b[38;5;124mSEQUENCE\u001b[39m\u001b[38;5;124m'\u001b[39m]]\u001b[38;5;241m.\u001b[39mastype(\u001b[38;5;28mstr\u001b[39m)\u001b[38;5;241m.\u001b[39mvalues[\u001b[38;5;241m0\u001b[39m][\u001b[38;5;241m0\u001b[39m]\u001b[38;5;241m.\u001b[39mreplace(\u001b[38;5;124m'\u001b[39m\u001b[38;5;124m \u001b[39m\u001b[38;5;124m'\u001b[39m,\u001b[38;5;124m'\u001b[39m\u001b[38;5;124m'\u001b[39m)\u001b[38;5;241m.\u001b[39mreplace(\u001b[38;5;124m'\u001b[39m\u001b[38;5;124m[\u001b[39m\u001b[38;5;124m'\u001b[39m,\u001b[38;5;124m'\u001b[39m\u001b[38;5;124m'\u001b[39m)\u001b[38;5;241m.\u001b[39mreplace(\u001b[38;5;124m'\u001b[39m\u001b[38;5;124m]\u001b[39m\u001b[38;5;124m'\u001b[39m,\u001b[38;5;124m'\u001b[39m\u001b[38;5;124m'\u001b[39m)\u001b[38;5;241m.\u001b[39mreplace(\u001b[38;5;124m\"\u001b[39m\u001b[38;5;124m'\u001b[39m\u001b[38;5;124m\"\u001b[39m,\u001b[38;5;124m\"\u001b[39m\u001b[38;5;124m\"\u001b[39m)\u001b[38;5;241m.\u001b[39msplit(\u001b[38;5;124m'\u001b[39m\u001b[38;5;124m,\u001b[39m\u001b[38;5;124m'\u001b[39m))\u001b[38;5;241m.\u001b[39msum()[\u001b[38;5;241m1\u001b[39m]\n",
      "\u001b[0;31mTypeError\u001b[0m: 'numpy.int64' object is not iterable"
     ]
    }
   ],
   "source": [
    "for i in pd.get_dummies(all_sequences_matrix[['SEQUENCE']].astype(str).values[0][0].replace(' ','').replace('[','').replace(']','').replace(\"'\",\"\").split(',')).sum()[0]:\n",
    "    all_sequences_matrix[str(i)]=d.get_dummies(all_sequences_matrix[['SEQUENCE']].astype(str).values[0][0].replace(' ','').replace('[','').replace(']','').replace(\"'\",\"\").split(',')).sum()[1]"
   ]
  },
  {
   "cell_type": "code",
   "execution_count": 74,
   "id": "ed4d95f4-a5f3-4185-b9fd-010bdc5d6921",
   "metadata": {},
   "outputs": [],
   "source": [
    "dum=pd.get_dummies(all_sequences_matrix, prefix='SEQUENCE')"
   ]
  },
  {
   "cell_type": "code",
   "execution_count": 87,
   "id": "6e666062-3473-4d86-ab4e-5909ba31a45e",
   "metadata": {},
   "outputs": [
    {
     "ename": "IndexError",
     "evalue": "only integers, slices (`:`), ellipsis (`...`), numpy.newaxis (`None`) and integer or boolean arrays are valid indices",
     "output_type": "error",
     "traceback": [
      "\u001b[0;31m---------------------------------------------------------------------------\u001b[0m",
      "\u001b[0;31mIndexError\u001b[0m                                Traceback (most recent call last)",
      "Cell \u001b[0;32mIn [87], line 1\u001b[0m\n\u001b[0;32m----> 1\u001b[0m \u001b[43mdum\u001b[49m\u001b[38;5;241;43m.\u001b[39;49m\u001b[43mcolumns\u001b[49m\u001b[38;5;241;43m.\u001b[39;49m\u001b[43mvalues\u001b[49m\u001b[43m[\u001b[49m\u001b[38;5;124;43m'\u001b[39;49m\u001b[38;5;124;43mSEQUENCE_\u001b[39;49m\u001b[38;5;124;43m'\u001b[39;49m\u001b[43m]\u001b[49m\n",
      "\u001b[0;31mIndexError\u001b[0m: only integers, slices (`:`), ellipsis (`...`), numpy.newaxis (`None`) and integer or boolean arrays are valid indices"
     ]
    }
   ],
   "source": [
    "dum.columns.values['SEQUENCE_']"
   ]
  },
  {
   "cell_type": "code",
   "execution_count": 69,
   "id": "cafb7bfb-b63b-41df-a9cc-e63d019bd87c",
   "metadata": {},
   "outputs": [
    {
     "data": {
      "text/html": [
       "<div>\n",
       "<style scoped>\n",
       "    .dataframe tbody tr th:only-of-type {\n",
       "        vertical-align: middle;\n",
       "    }\n",
       "\n",
       "    .dataframe tbody tr th {\n",
       "        vertical-align: top;\n",
       "    }\n",
       "\n",
       "    .dataframe thead th {\n",
       "        text-align: right;\n",
       "    }\n",
       "</style>\n",
       "<table border=\"1\" class=\"dataframe\">\n",
       "  <thead>\n",
       "    <tr style=\"text-align: right;\">\n",
       "      <th></th>\n",
       "      <th>SEQUENCE</th>\n",
       "    </tr>\n",
       "  </thead>\n",
       "  <tbody>\n",
       "  </tbody>\n",
       "</table>\n",
       "</div>"
      ],
      "text/plain": [
       "Empty DataFrame\n",
       "Columns: [SEQUENCE]\n",
       "Index: []"
      ]
     },
     "execution_count": 69,
     "metadata": {},
     "output_type": "execute_result"
    }
   ],
   "source": [
    "seq"
   ]
  }
 ],
 "metadata": {
  "kernelspec": {
   "display_name": "Python 3 (ipykernel)",
   "language": "python",
   "name": "python3"
  },
  "language_info": {
   "codemirror_mode": {
    "name": "ipython",
    "version": 3
   },
   "file_extension": ".py",
   "mimetype": "text/x-python",
   "name": "python",
   "nbconvert_exporter": "python",
   "pygments_lexer": "ipython3",
   "version": "3.9.7"
  }
 },
 "nbformat": 4,
 "nbformat_minor": 5
}
